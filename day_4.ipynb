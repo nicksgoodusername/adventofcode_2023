{
 "cells": [
  {
   "cell_type": "code",
   "execution_count": 8,
   "metadata": {},
   "outputs": [],
   "source": [
    "import re\n",
    "import numpy as np\n",
    "import math"
   ]
  },
  {
   "cell_type": "code",
   "execution_count": 12,
   "metadata": {},
   "outputs": [
    {
     "name": "stdout",
     "output_type": "stream",
     "text": [
      "17803\n"
     ]
    }
   ],
   "source": [
    "### Part 1\n",
    "input_file = r\"./input_4.txt\"\n",
    "\n",
    "card_no = 0\n",
    "point_total = 0\n",
    "with open(input_file, 'r') as input:\n",
    "    for line in input:\n",
    "        card_no += 1\n",
    "        match_count = 0\n",
    "        winning_numbers, my_numbers = line.split('|')\n",
    "        winning_numbers = [int(x) for x in winning_numbers[10::].split()]\n",
    "        my_numbers = [int(x) for x in my_numbers.split()]\n",
    "        for number in winning_numbers:\n",
    "            if number in my_numbers:\n",
    "                match_count += 1\n",
    "        card_points = int(math.floor(2**(match_count - 1)))\n",
    "        point_total += card_points\n",
    "\n",
    "print(point_total)"
   ]
  },
  {
   "cell_type": "code",
   "execution_count": 20,
   "metadata": {},
   "outputs": [
    {
     "name": "stdout",
     "output_type": "stream",
     "text": [
      "5554894\n"
     ]
    }
   ],
   "source": [
    "### Part 2\n",
    "input_file = r\"./input_4.txt\"\n",
    "\n",
    "card_no = 0\n",
    "point_total = 0\n",
    "\n",
    "with open(input_file, 'r') as input:\n",
    "    total_lines = len(input.readlines())\n",
    "\n",
    "card_count = np.full(total_lines, 1)\n",
    "\n",
    "with open(input_file, 'r') as input:\n",
    "    for line in input:\n",
    "        card_no += 1\n",
    "        match_count = 0\n",
    "        card_copies = card_count[card_no-1]\n",
    "        winning_numbers, my_numbers = line.split('|')\n",
    "        winning_numbers = [int(x) for x in winning_numbers[10::].split()]\n",
    "        my_numbers = [int(x) for x in my_numbers.split()]\n",
    "        for number in winning_numbers:\n",
    "            if number in my_numbers:\n",
    "                match_count += 1\n",
    "        cards_won = list(range(card_no + 1, card_no + match_count + 1))\n",
    "        for card in cards_won:\n",
    "            card_count[card - 1] += 1 * card_copies\n",
    "    \n",
    "print(np.sum(card_count))\n"
   ]
  },
  {
   "cell_type": "code",
   "execution_count": null,
   "metadata": {},
   "outputs": [],
   "source": []
  }
 ],
 "metadata": {
  "kernelspec": {
   "display_name": "py3.7_1",
   "language": "python",
   "name": "python3"
  },
  "language_info": {
   "codemirror_mode": {
    "name": "ipython",
    "version": 3
   },
   "file_extension": ".py",
   "mimetype": "text/x-python",
   "name": "python",
   "nbconvert_exporter": "python",
   "pygments_lexer": "ipython3",
   "version": "3.7.16"
  }
 },
 "nbformat": 4,
 "nbformat_minor": 2
}
