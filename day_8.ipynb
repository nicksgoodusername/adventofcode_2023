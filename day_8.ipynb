{
 "cells": [
  {
   "cell_type": "code",
   "execution_count": 42,
   "metadata": {},
   "outputs": [],
   "source": [
    "import ast\n",
    "import re\n",
    "puzzle_input = r\"./input_8.txt\"\n",
    "\n",
    "lr_dict = {\n",
    "    \"L\": 0,\n",
    "    \"R\": 1\n",
    "}"
   ]
  },
  {
   "cell_type": "code",
   "execution_count": 43,
   "metadata": {},
   "outputs": [
    {
     "name": "stdout",
     "output_type": "stream",
     "text": [
      "Reached ZZZ in 19631 steps\n"
     ]
    }
   ],
   "source": [
    "### Part 1\n",
    "location_keys = []\n",
    "all_connected_nodes = []\n",
    "\n",
    "with open(puzzle_input) as file:\n",
    "    for line in file:\n",
    "        if not line.strip():\n",
    "            continue\n",
    "        if not \"=\" in line:\n",
    "            lr_string = line.strip()\n",
    "            continue\n",
    "        location_key, connected_nodes = line.split(\"=\")\n",
    "        location_keys.append(location_key.strip())\n",
    "        connected_nodes = tuple([re.sub(r\"[\\W+]\", \"\", x) for x in connected_nodes.split(\",\")])\n",
    "        all_connected_nodes.append(connected_nodes)\n",
    "\n",
    "current_location = \"AAA\"\n",
    "current_location_index = location_keys.index(\"AAA\")       \n",
    "lr_index = 0\n",
    "num_steps = 0\n",
    "while current_location != \"ZZZ\":\n",
    "    current_location = all_connected_nodes[current_location_index][lr_dict[lr_string[lr_index]]]  # Convert old current_location_index to new current_location\n",
    "    current_location_index = location_keys.index(current_location)  # Get index of new current_location\n",
    "    lr_index += 1\n",
    "    if lr_index > len(lr_string) - 1:\n",
    "        lr_index = 0\n",
    "    num_steps += 1\n",
    "\n",
    "print(\"Reached\", current_location, \"in\", num_steps, \"steps\")\n"
   ]
  },
  {
   "cell_type": "code",
   "execution_count": null,
   "metadata": {},
   "outputs": [],
   "source": []
  }
 ],
 "metadata": {
  "kernelspec": {
   "display_name": "py37",
   "language": "python",
   "name": "python3"
  },
  "language_info": {
   "codemirror_mode": {
    "name": "ipython",
    "version": 3
   },
   "file_extension": ".py",
   "mimetype": "text/x-python",
   "name": "python",
   "nbconvert_exporter": "python",
   "pygments_lexer": "ipython3",
   "version": "3.7.16"
  }
 },
 "nbformat": 4,
 "nbformat_minor": 2
}
