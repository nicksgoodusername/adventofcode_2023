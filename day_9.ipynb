{
 "cells": [
  {
   "cell_type": "code",
   "execution_count": 21,
   "metadata": {},
   "outputs": [],
   "source": [
    "import numpy as np\n",
    "puzzle_input = \"./input_9.txt\""
   ]
  },
  {
   "cell_type": "code",
   "execution_count": 22,
   "metadata": {},
   "outputs": [
    {
     "name": "stdout",
     "output_type": "stream",
     "text": [
      "Sum of extrapolated values: 1584748274\n"
     ]
    }
   ],
   "source": [
    "### Part 1\n",
    "\n",
    "predicted_values = []\n",
    "with open(puzzle_input) as file:\n",
    "    for line in file:\n",
    "        line_sequences =[]\n",
    "        current_sequence = [int(x) for x in line.split()]\n",
    "        line_sequences.append(current_sequence)\n",
    "        while not all([x == 0 for x in current_sequence]):\n",
    "            current_sequence = np.ediff1d(current_sequence).tolist()\n",
    "            line_sequences.append(current_sequence)\n",
    "        for index, sequence in enumerate(reversed(line_sequences)):\n",
    "            if all([x == 0 for x in sequence]):\n",
    "                sequence.append(0)\n",
    "                previous_sequence = sequence\n",
    "                continue\n",
    "            sequence.append(sequence[-1] + previous_sequence[-1])\n",
    "            previous_sequence = sequence\n",
    "        predicted_values.append(sequence[-1])\n",
    "\n",
    "print(\"Sum of extrapolated values:\", np.sum(predicted_values))"
   ]
  },
  {
   "cell_type": "code",
   "execution_count": 23,
   "metadata": {},
   "outputs": [],
   "source": [
    "### Part 2\n",
    "\n",
    "predicted_values = []\n",
    "with open(puzzle_input) as file:\n",
    "    for line in file:\n",
    "        line_sequences =[]\n",
    "        current_sequence = [int(x) for x in line.split()]\n",
    "        line_sequences.append(current_sequence)\n",
    "        while not all([x == 0 for x in current_sequence]):\n",
    "            current_sequence = np.ediff1d(current_sequence).tolist()\n",
    "            line_sequences.append(current_sequence)\n",
    "        for index, sequence in enumerate(reversed(line_sequences)):\n",
    "            if all([x == 0 for x in sequence]):\n",
    "                sequence.append(0)\n",
    "                previous_sequence = sequence\n",
    "                continue\n",
    "            sequence.append(sequence[-1] + previous_sequence[-1])\n",
    "            previous_sequence = sequence\n",
    "        predicted_values.append(sequence[-1])\n",
    "\n",
    "print(\"Sum of extrapolated values:\", np.sum(predicted_values))"
   ]
  },
  {
   "cell_type": "code",
   "execution_count": null,
   "metadata": {},
   "outputs": [],
   "source": []
  }
 ],
 "metadata": {
  "kernelspec": {
   "display_name": "py3.7",
   "language": "python",
   "name": "python3"
  },
  "language_info": {
   "codemirror_mode": {
    "name": "ipython",
    "version": 3
   },
   "file_extension": ".py",
   "mimetype": "text/x-python",
   "name": "python",
   "nbconvert_exporter": "python",
   "pygments_lexer": "ipython3",
   "version": "3.7.17"
  }
 },
 "nbformat": 4,
 "nbformat_minor": 2
}
