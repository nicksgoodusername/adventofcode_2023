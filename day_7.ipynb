{
 "cells": [
  {
   "cell_type": "code",
   "execution_count": 1,
   "metadata": {},
   "outputs": [],
   "source": [
    "puzzle_input = \"./input_test.txt\"\n",
    "value_dict = {\n",
    "    'T': 10,\n",
    "    'J': 11,\n",
    "    'Q': 12,\n",
    "    'K': 13,\n",
    "    'A': 14\n",
    "}"
   ]
  },
  {
   "cell_type": "code",
   "execution_count": 11,
   "metadata": {},
   "outputs": [
    {
     "name": "stdout",
     "output_type": "stream",
     "text": [
      "['3', '2', 'T', '3', 'K']\n",
      "2\n",
      "['T', '5', '5', 'J', '5']\n",
      "3\n",
      "['K', 'K', '6', '7', '7']\n",
      "2\n",
      "['K', 'T', 'J', 'J', 'T']\n",
      "2\n",
      "['Q', 'Q', 'Q', 'J', 'A']\n",
      "3\n"
     ]
    }
   ],
   "source": [
    "fi_k, fo_k, f_h, t_k, t_p, o_p, h_c = [], [], [], [], [], [], []\n",
    "\n",
    "with open(puzzle_input) as file:\n",
    "    for line in file:\n",
    "        cards, bid = line.split(\" \")\n",
    "        cards = [*cards]\n",
    "        print(cards)\n",
    "        cards_sorted = sorted(cards)\n",
    "        best_score = 0\n",
    "        for card in cards_sorted:\n",
    "            count = 0\n",
    "            for other_card in cards_sorted:\n",
    "                if card == other_card:\n",
    "                    count += 1\n",
    "            if count > best_score:\n",
    "                best_score = count\n",
    "        print(best_score)"
   ]
  },
  {
   "cell_type": "code",
   "execution_count": null,
   "metadata": {},
   "outputs": [],
   "source": []
  }
 ],
 "metadata": {
  "kernelspec": {
   "display_name": "py37",
   "language": "python",
   "name": "python3"
  },
  "language_info": {
   "codemirror_mode": {
    "name": "ipython",
    "version": 3
   },
   "file_extension": ".py",
   "mimetype": "text/x-python",
   "name": "python",
   "nbconvert_exporter": "python",
   "pygments_lexer": "ipython3",
   "version": "3.7.16"
  }
 },
 "nbformat": 4,
 "nbformat_minor": 2
}
