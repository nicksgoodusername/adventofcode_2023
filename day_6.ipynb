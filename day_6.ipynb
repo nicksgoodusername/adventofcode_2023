{
 "cells": [
  {
   "cell_type": "code",
   "execution_count": 51,
   "metadata": {},
   "outputs": [],
   "source": [
    "input_file = r\"./input_6.txt\"\n",
    "import numpy as np"
   ]
  },
  {
   "cell_type": "code",
   "execution_count": 39,
   "metadata": {},
   "outputs": [
    {
     "name": "stdout",
     "output_type": "stream",
     "text": [
      "608902\n"
     ]
    }
   ],
   "source": [
    "### Part 1\n",
    "\n",
    "times = []\n",
    "records = []\n",
    "with open(input_file, \"r\") as file:\n",
    "    for line in file:\n",
    "        if line.startswith(\"Time:\"):\n",
    "            times = list(map(int, line.split(\":\")[1].split()))\n",
    "            continue\n",
    "        if line.startswith(\"Distance:\"):\n",
    "            records = list(map(int, line.split(\":\")[1].split()))\n",
    "\n",
    "race_stats = [(times[x], records[x]) for x in range(len(times))]\n",
    "\n",
    "wins_ways_per_race = []\n",
    "for race_stat in race_stats:\n",
    "    win_ways = 0\n",
    "    time, record = race_stat\n",
    "    for holdtime in range(time):\n",
    "        dist = holdtime * (time - holdtime)\n",
    "        if dist > record:\n",
    "            win_ways += 1\n",
    "    wins_ways_per_race.append(win_ways)\n",
    "\n",
    "print(np.prod(wins_ways_per_race))"
   ]
  },
  {
   "cell_type": "code",
   "execution_count": 52,
   "metadata": {},
   "outputs": [
    {
     "name": "stdout",
     "output_type": "stream",
     "text": [
      "46173809\n"
     ]
    }
   ],
   "source": [
    "### Part 2\n",
    "with open(input_file, \"r\") as file:\n",
    "    for line in file:\n",
    "        if line.startswith(\"Time:\"):\n",
    "            time = int(line.strip().split(\":\")[1].replace(\" \", \"\"))\n",
    "            continue\n",
    "        if line.startswith(\"Distance:\"):\n",
    "            record = int(line.strip().split(\":\")[1].replace(\" \", \"\"))\n",
    "\n",
    "win_ways = 0\n",
    "for holdtime in range(time):\n",
    "    dist = holdtime * (time - holdtime)\n",
    "    if dist > record:\n",
    "        win_ways += 1\n",
    "\n",
    "print(win_ways)"
   ]
  },
  {
   "cell_type": "code",
   "execution_count": null,
   "metadata": {},
   "outputs": [],
   "source": []
  }
 ],
 "metadata": {
  "kernelspec": {
   "display_name": "py37",
   "language": "python",
   "name": "python3"
  },
  "language_info": {
   "codemirror_mode": {
    "name": "ipython",
    "version": 3
   },
   "file_extension": ".py",
   "mimetype": "text/x-python",
   "name": "python",
   "nbconvert_exporter": "python",
   "pygments_lexer": "ipython3",
   "version": "3.7.16"
  }
 },
 "nbformat": 4,
 "nbformat_minor": 2
}
