{
 "cells": [
  {
   "cell_type": "code",
   "execution_count": 2,
   "metadata": {},
   "outputs": [],
   "source": [
    "import re\n",
    "import numpy as np"
   ]
  },
  {
   "cell_type": "code",
   "execution_count": 3,
   "metadata": {},
   "outputs": [
    {
     "name": "stdout",
     "output_type": "stream",
     "text": [
      "520019\n"
     ]
    }
   ],
   "source": [
    "### Part 1\n",
    "\n",
    "line_no = 0\n",
    "\n",
    "input_file = \"./input_3.txt\"\n",
    "\n",
    "symbol_match = r\"[^0-9\\.\\s]\"\n",
    "\n",
    "with open(input_file, 'r') as input:\n",
    "    total_lines = len(input.readlines())\n",
    "\n",
    "symbol_locations = np.full((total_lines), None)\n",
    "\n",
    "with open(input_file, 'r') as symbol_input:\n",
    "    for line in symbol_input:\n",
    "        line_no += 1\n",
    "        symbols_per_line = []\n",
    "        symbols = re.finditer(symbol_match, line)\n",
    "        for symbol in symbols:\n",
    "            location = symbol.end()  # This makes sense as it is the .end()-th symbol in the line. Should have made it start at zero, oops.\n",
    "            symbols_per_line.append(location)\n",
    "        symbol_locations[line_no - 1] = symbols_per_line\n",
    "\n",
    "number_match = r\"\\d+\"\n",
    "number_total = 0\n",
    "\n",
    "line_index = -1\n",
    "with open(input_file, 'r') as number_input:\n",
    "    for line in number_input:\n",
    "        line_index += 1\n",
    "\n",
    "        adjacent_symbols = []\n",
    "\n",
    "        for x in (line_index, line_index + 1, line_index - 1):\n",
    "            if x > -1 and x < total_lines:\n",
    "                adjacent_symbols.append(symbol_locations[x])\n",
    "        adjacent_symbols = [place for sublist in adjacent_symbols for place in sublist]\n",
    "\n",
    "        numbers = re.finditer(number_match, line)\n",
    "        for number in numbers:\n",
    "            start = number.start() + 1\n",
    "            end = number.end()\n",
    "            span = np.array(range(start, end + 1))\n",
    "            extended_span = np.unique(np.concatenate((span, span-1, span+1)))\n",
    "\n",
    "            if any(n in adjacent_symbols for n in extended_span):\n",
    "                number_total += int(number[0])\n",
    "\n",
    "print(number_total)"
   ]
  },
  {
   "cell_type": "code",
   "execution_count": 4,
   "metadata": {},
   "outputs": [
    {
     "name": "stdout",
     "output_type": "stream",
     "text": [
      "75519888\n"
     ]
    }
   ],
   "source": [
    "### Part 2\n",
    "input_file = \"./input_3.txt\"\n",
    "\n",
    "gear_match = r\"\\*\"\n",
    "number_match = r\"\\d+\"\n",
    "\n",
    "gear_ratio_total = 0\n",
    "\n",
    "with open(input_file, 'r') as input:\n",
    "    total_lines = len(input.readlines())\n",
    "\n",
    "number_locations = np.full((total_lines), None)\n",
    "\n",
    "with open(input_file, 'r') as input:  # Make array of number locations and properties.\n",
    "    line_index = -1\n",
    "    for line in input:\n",
    "        line_index += 1\n",
    "        numbers_per_line = []\n",
    "        numbers = re.finditer(number_match, line)\n",
    "        for number in numbers:\n",
    "            span = list(range(number.start()+1, number.end()+1))  # Slightly awkward because I didn't start indexing at 0.\n",
    "            value = number[0]\n",
    "            numbers_per_line.append([value, span])\n",
    "        number_locations[line_index] = numbers_per_line\n",
    "\n",
    "with open(input_file, 'r') as input:  # Find gears and all numbers on lines adjacent to gears. If exactly two numbers adjacent to gear then add product to total.\n",
    "    line_index = -1\n",
    "    for line in input:\n",
    "        line_index += 1\n",
    "\n",
    "        adjacent_numbers = []\n",
    "\n",
    "        for x in (line_index, line_index + 1, line_index - 1):\n",
    "            if x > -1 and x < total_lines:\n",
    "                adjacent_numbers.append(number_locations[x])\n",
    "        adjacent_numbers = [place for sublist in adjacent_numbers for place in sublist]\n",
    "\n",
    "        gears = re.finditer(gear_match, line)\n",
    "        for gear in gears:\n",
    "            gear_location = gear.end()\n",
    "            gear_area = [gear_location-1, gear_location, gear_location+1]\n",
    "\n",
    "            gear_ratios = []\n",
    "            for value, span in adjacent_numbers:\n",
    "                if any(loc in span for loc in gear_area):\n",
    "                    gear_ratios.append(int(value))\n",
    "            if len(gear_ratios) == 2:\n",
    "                ratio_prod = int(np.prod(gear_ratios))\n",
    "                gear_ratio_total += ratio_prod\n",
    "\n",
    "print(gear_ratio_total)\n",
    "            "
   ]
  },
  {
   "cell_type": "code",
   "execution_count": null,
   "metadata": {},
   "outputs": [],
   "source": []
  }
 ],
 "metadata": {
  "kernelspec": {
   "display_name": "py3.7_1",
   "language": "python",
   "name": "python3"
  },
  "language_info": {
   "codemirror_mode": {
    "name": "ipython",
    "version": 3
   },
   "file_extension": ".py",
   "mimetype": "text/x-python",
   "name": "python",
   "nbconvert_exporter": "python",
   "pygments_lexer": "ipython3",
   "version": "3.7.16"
  }
 },
 "nbformat": 4,
 "nbformat_minor": 2
}
